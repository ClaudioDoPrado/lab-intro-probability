{
 "cells": [
  {
   "cell_type": "markdown",
   "metadata": {},
   "source": [
    "# Lab | Intro to Probability"
   ]
  },
  {
   "cell_type": "markdown",
   "metadata": {},
   "source": [
    "**Objective**\n",
    "\n",
    "Welcome to this Intro to Probability lab, where we explore decision-making scenarios through the lens of probability and strategic analysis. In the business world, making informed decisions is crucial, especially when faced with uncertainties. This lab focuses on scenarios where probabilistic outcomes play a significant role in shaping strategies and outcomes. Students will engage in exercises that require assessing and choosing optimal paths based on data-driven insights. The goal is to enhance your skills by applying probability concepts to solve real-world problems."
   ]
  },
  {
   "cell_type": "markdown",
   "metadata": {},
   "source": [
    "**Challenge 1**"
   ]
  },
  {
   "cell_type": "markdown",
   "metadata": {},
   "source": [
    "#### Ironhack Airlines \n",
    "\n",
    "Often Airlines sell more tickets than they have seats available, this is called overbooking. Consider the following:\n",
    "- A plane has 450 seats. \n",
    "- Based on historical data we conclude that each individual passenger has a 3% chance of missing it's flight. \n",
    "\n",
    "If the Ironhack Airlines routinely sells 460 tickets, what is the chance that they have a seats for all passenger?"
   ]
  },
  {
   "cell_type": "code",
   "execution_count": 31,
   "metadata": {},
   "outputs": [
    {
     "name": "stdout",
     "output_type": "stream",
     "text": [
      "the probability that the airline has to seat all passangers is: 0.8844772466215431\n"
     ]
    }
   ],
   "source": [
    "from scipy.stats import binom, geom, poisson, expon, norm\n",
    "\n",
    "n = 460\n",
    "p = 0.97\n",
    "binom_dist = binom(n, p)\n",
    "prob = binom_dist.cdf(450)\n",
    "print(f'the probability that the airline has to seat all passangers is: {prob}')"
   ]
  },
  {
   "cell_type": "markdown",
   "metadata": {},
   "source": [
    "**Challenge 2**"
   ]
  },
  {
   "cell_type": "markdown",
   "metadata": {},
   "source": [
    "#### Ironhack Call Center "
   ]
  },
  {
   "cell_type": "markdown",
   "metadata": {},
   "source": [
    "Suppose a customer service representative at a call center is handling customer complaints. Consider the following:\n",
    "- The probability of successfully resolving a customer complaint on the first attempt is 0.3. \n",
    "\n",
    "\n",
    "What is the probability that the representative needs to make at least three attempts before successfully resolving a customer complaint?"
   ]
  },
  {
   "cell_type": "code",
   "execution_count": 15,
   "metadata": {},
   "outputs": [
    {
     "data": {
      "text/plain": [
       "0.14699999999999996"
      ]
     },
     "execution_count": 15,
     "metadata": {},
     "output_type": "execute_result"
    }
   ],
   "source": [
    "p = 0.3\n",
    "geom_dist = geom(p)\n",
    "\n",
    "geom_dist.pmf(3)"
   ]
  },
  {
   "cell_type": "markdown",
   "metadata": {},
   "source": [
    "**Challenge 3**"
   ]
  },
  {
   "cell_type": "markdown",
   "metadata": {},
   "source": [
    "#### Ironhack Website"
   ]
  },
  {
   "cell_type": "markdown",
   "metadata": {},
   "source": [
    "Consider a scenario related to Ironhack website traffic. Where:\n",
    "- our website takes on average 500 visits per hour.\n",
    "- the website's server is designed to handle up to 550 vists per hour.\n",
    "\n",
    "\n",
    "What is the probability of the website server being overwhelmed?"
   ]
  },
  {
   "cell_type": "code",
   "execution_count": 23,
   "metadata": {},
   "outputs": [
    {
     "name": "stdout",
     "output_type": "stream",
     "text": [
      "The probability that the server is overwhelmed: 0.0129\n"
     ]
    }
   ],
   "source": [
    "from scipy.stats import poisson\n",
    "\n",
    "WT = 550\n",
    "#p= ?\n",
    "WV = 500\n",
    "\n",
    "# Calculate the CDF for X <= 550\n",
    "cdf_smaller = poisson.cdf(WT, WV)\n",
    "\n",
    "# Calculate the probability the website server is overwhelmed (more than 550 visits) in one hour\n",
    "cdf_bigger = 1 - cdf_smaller\n",
    "\n",
    "print(f\"The probability that the server is overwhelmed: {cdf_bigger:.4f}\")"
   ]
  },
  {
   "cell_type": "markdown",
   "metadata": {},
   "source": [
    "What is the probability of being overwhelmed at some point during a day? (consider 24hours)"
   ]
  },
  {
   "cell_type": "code",
   "execution_count": 27,
   "metadata": {},
   "outputs": [
    {
     "name": "stdout",
     "output_type": "stream",
     "text": [
      "The probability of being overwhelmed at least once in a day: 0.2677\n"
     ]
    }
   ],
   "source": [
    "# Probability of not being overwhelmed in one hour\n",
    "P_one_hour = 1 - cdf_bigger\n",
    "\n",
    "# Probability of not being overwhelmed in all 24 hours\n",
    "P_24_hour = P_one_hour ** 24\n",
    "\n",
    "# Probability of being overwhelmed at least once in 24 hours\n",
    "P_once = 1 - P_24_hour\n",
    "\n",
    "print(f\"The probability of being overwhelmed at least once in a day: {P_once:.4f}\")"
   ]
  },
  {
   "cell_type": "markdown",
   "metadata": {},
   "source": [
    "**Challenge 4**"
   ]
  },
  {
   "cell_type": "markdown",
   "metadata": {},
   "source": [
    "#### Ironhack Helpdesk"
   ]
  },
  {
   "cell_type": "markdown",
   "metadata": {},
   "source": [
    "Consider a scenario related to the time between arrivals of customers at a service desk.\n",
    "\n",
    "On average, a customers arrives every 10minutes.\n",
    "\n",
    "What is the probability that the next customer will arrive within the next 5 minutes?"
   ]
  },
  {
   "cell_type": "code",
   "execution_count": 33,
   "metadata": {},
   "outputs": [
    {
     "name": "stdout",
     "output_type": "stream",
     "text": [
      "Probability next customer arrives within 5 minutes: 0.3935\n"
     ]
    }
   ],
   "source": [
    "rate = 1/10  # lambda = 1 per 10 minutes\n",
    "time = 5\n",
    "\n",
    "# P(T <= 5)\n",
    "prob = expon.cdf(time, scale=1/rate)\n",
    "\n",
    "print(f\"Probability next customer arrives within 5 minutes: {prob:.4f}\")"
   ]
  },
  {
   "cell_type": "markdown",
   "metadata": {},
   "source": [
    "If there is no customer for 15minutes, employees can that a 5minutes break.\n",
    "\n",
    "What is the probability an employee taking a break?"
   ]
  },
  {
   "cell_type": "code",
   "execution_count": 35,
   "metadata": {},
   "outputs": [
    {
     "name": "stdout",
     "output_type": "stream",
     "text": [
      "Probability employee can take a break: 0.2231\n"
     ]
    }
   ],
   "source": [
    "rate = 1/10  # one customer every 10 minutes\n",
    "time = 15\n",
    "\n",
    "# P(T > 15)\n",
    "prob_break = 1 - expon.cdf(time, scale=1/rate)\n",
    "\n",
    "print(f\"Probability employee can take a break: {prob_break:.4f}\")"
   ]
  },
  {
   "cell_type": "markdown",
   "metadata": {},
   "source": [
    "**Challenge 5**"
   ]
  },
  {
   "cell_type": "markdown",
   "metadata": {},
   "source": [
    "The weights of a certain species of birds follow a normal distribution with a mean weight of 150 grams and a standard deviation of 10 grams. \n",
    "\n",
    "- If we randomly select a bird, what is the probability that its weight is between 140 and 160 grams?"
   ]
  },
  {
   "cell_type": "code",
   "execution_count": 37,
   "metadata": {},
   "outputs": [
    {
     "name": "stdout",
     "output_type": "stream",
     "text": [
      "Probability that the bird weighs between 140 and 160 grams: 0.6827\n"
     ]
    }
   ],
   "source": [
    "mean = 150\n",
    "std_dev = 10\n",
    "\n",
    "# Calculate the probability that weight is between 140 and 160 grams\n",
    "prob_between = norm.cdf(160, mean, std_dev) - norm.cdf(140, mean, std_dev)\n",
    "\n",
    "print(f\"Probability that the bird weighs between 140 and 160 grams: {prob_between:.4f}\")"
   ]
  },
  {
   "cell_type": "markdown",
   "metadata": {},
   "source": [
    "**Challenge 6**"
   ]
  },
  {
   "cell_type": "markdown",
   "metadata": {},
   "source": [
    "If the lifetime (in hours) of a certain electronic component follows an exponential distribution with a mean lifetime of 50 hours, what is the probability that the component fails within the first 30 hours?"
   ]
  },
  {
   "cell_type": "code",
   "execution_count": 39,
   "metadata": {},
   "outputs": [
    {
     "name": "stdout",
     "output_type": "stream",
     "text": [
      "Probability that the component fails within 30 hours: 0.4512\n"
     ]
    }
   ],
   "source": [
    "rate = 1 / 50 \n",
    "time = 30\n",
    "\n",
    "# Calculate the probability that the component fails within 30 hours\n",
    "prob_fail = expon.cdf(time, scale=1/rate)\n",
    "\n",
    "print(f\"Probability that the component fails within 30 hours: {prob_fail:.4f}\")"
   ]
  },
  {
   "cell_type": "code",
   "execution_count": null,
   "metadata": {},
   "outputs": [],
   "source": []
  }
 ],
 "metadata": {
  "kernelspec": {
   "display_name": "Python [conda env:base] *",
   "language": "python",
   "name": "conda-base-py"
  },
  "language_info": {
   "codemirror_mode": {
    "name": "ipython",
    "version": 3
   },
   "file_extension": ".py",
   "mimetype": "text/x-python",
   "name": "python",
   "nbconvert_exporter": "python",
   "pygments_lexer": "ipython3",
   "version": "3.12.7"
  }
 },
 "nbformat": 4,
 "nbformat_minor": 4
}
